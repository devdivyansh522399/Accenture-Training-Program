{
 "cells": [
  {
   "cell_type": "code",
   "execution_count": null,
   "metadata": {},
   "outputs": [],
   "source": [
    "#Python List:-\n",
    "student=[101,\"John\",\"Python\",89.5]\n",
    "\n",
    "print(student)\n",
    "\n",
    "\"\"\"print(\"Roll   : \",student[0])\n",
    "print(\"Name   : \",student[1])\n",
    "print(\"Course : \",student[2])\n",
    "print(\"Marks  : \",student[3])\"\"\""
   ]
  },
  {
   "cell_type": "code",
   "execution_count": null,
   "metadata": {},
   "outputs": [],
   "source": [
    "#Python - List -(modify element)\n",
    "\n",
    "student=[101,\"John\",\"Python\",89.5]\n",
    "print(\"Old List items :\",student)\n",
    "\n",
    "newmarks=float(input('Enter updated marks:'))\n",
    "\n",
    "student[3]=newmarks\n",
    "\n",
    "print('New List items :',student)"
   ]
  },
  {
   "cell_type": "code",
   "execution_count": null,
   "metadata": {},
   "outputs": [],
   "source": [
    "course=[\"C\",\"C++\",\"Python\"]\n",
    "print(course[3])"
   ]
  },
  {
   "cell_type": "code",
   "execution_count": null,
   "metadata": {},
   "outputs": [],
   "source": [
    "#Python - how to delete a List\n",
    "\n",
    "course=[\"C\",\"C++\",\"Python\"]\n",
    "print(course)\n",
    "del course\n",
    "print(\"course List deleted successfully...!\")\n"
   ]
  },
  {
   "cell_type": "code",
   "execution_count": null,
   "metadata": {},
   "outputs": [],
   "source": [
    "#Python : List- operators\n",
    "# + (concatenation op.)\n",
    "\n",
    "list1 = [1,2,3]\n",
    "list2 = [4,5,6]\n",
    "\n",
    "print(list1+list2)\n",
    "print(list1)\n",
    "print(list2)"
   ]
  },
  {
   "cell_type": "code",
   "execution_count": null,
   "metadata": {},
   "outputs": [],
   "source": [
    "#Python : List- operators\n",
    "# * (repetition op.)\n",
    "\n",
    "list1=[1,2,'3']\n",
    "\n",
    "print(type(list1[1]))\n",
    "print(type(list1[2]))\n",
    "\n",
    "print(list1[1]*3)"
   ]
  },
  {
   "cell_type": "code",
   "execution_count": null,
   "metadata": {},
   "outputs": [],
   "source": [
    "#Python : List- operators\n",
    "# [] (slice op.)\n",
    "\n",
    "list1=[1,2,3,4,5,6]\n",
    "print(list1[-3])"
   ]
  },
  {
   "cell_type": "code",
   "execution_count": null,
   "metadata": {},
   "outputs": [],
   "source": [
    "#Python : List- operators\n",
    "# [:] (range op.)\n",
    "\n",
    "list1=[1,2,3,4,5,6]\n",
    "print(list1[1:4])\n",
    "print(list1[:2])"
   ]
  },
  {
   "cell_type": "code",
   "execution_count": null,
   "metadata": {},
   "outputs": [],
   "source": [
    "lst=['P','y','t','h','o','n']\n",
    "print(lst[-2:])"
   ]
  },
  {
   "cell_type": "code",
   "execution_count": null,
   "metadata": {},
   "outputs": [],
   "source": [
    "#Python : List- operators\n",
    "# in op.\n",
    "\n",
    "course=[\"C\",\"C++\",\"Python\"]\n",
    "\n",
    "if \"Python\" in course:\n",
    "    print(\"Python course is available\")\n",
    "else:\n",
    "     print(\"Python course is not available\")"
   ]
  },
  {
   "cell_type": "code",
   "execution_count": null,
   "metadata": {},
   "outputs": [],
   "source": [
    "#Python : List- operators\n",
    "# not in \n",
    "\n",
    "course=[\"C\",\"C++\",\"Python\"]\n",
    "\n",
    "if \"Django\" not in course:\n",
    "    print(\"Django course is not available\")\n",
    "else:\n",
    "     print(\"Django is there\")"
   ]
  },
  {
   "cell_type": "code",
   "execution_count": null,
   "metadata": {},
   "outputs": [],
   "source": [
    "#Python- In-built function\n",
    "#len() - used to get the length of a list\n",
    "\n",
    "course=[\"C\",\"C++\",\"Python\"]\n",
    "\n",
    "print(\"total courses: \",len(course))"
   ]
  },
  {
   "cell_type": "code",
   "execution_count": null,
   "metadata": {},
   "outputs": [],
   "source": [
    "#Python- In-built function\n",
    "#max() - used to get the maximum of a list\n",
    "\n",
    "marks=[56,78,90,34]\n",
    "print(\"Maximum marks  :\",max(marks))"
   ]
  },
  {
   "cell_type": "code",
   "execution_count": null,
   "metadata": {},
   "outputs": [],
   "source": [
    "#Python- In-built function\n",
    "#min() - used to get the minimum of a list\n",
    "\n",
    "marks=[56,78,90,34]\n",
    "print(\"Minimum marks  :\",min(marks))"
   ]
  },
  {
   "cell_type": "code",
   "execution_count": null,
   "metadata": {},
   "outputs": [],
   "source": [
    "#Python- In-built function\n",
    "#append() - used to add an element at the end of list\n",
    "\n",
    "course=[\"C\",\"C++\",\"Python\"]\n",
    "print(course)\n",
    "course.append(\"Django\")\n",
    "print(course)"
   ]
  },
  {
   "cell_type": "code",
   "execution_count": null,
   "metadata": {},
   "outputs": [],
   "source": [
    "#Python- In-built function\n",
    "#insert() - used to add an element specific position in a list\n",
    "\n",
    "course=[\"C\",\"C++\",\"Python\"]\n",
    "print(course)\n",
    "course.insert(2,\"Django\")\n",
    "print(course)"
   ]
  },
  {
   "cell_type": "code",
   "execution_count": null,
   "metadata": {},
   "outputs": [],
   "source": [
    "#Python- In-built function\n",
    "#remove() - used to remove an element in a list\n",
    "\n",
    "course=[\"C\",\"C++\",\"Python\"]\n",
    "print(\"list before removing : \",course)\n",
    "course.remove(\"C++\")\n",
    "print(\"list after removing :\",course)"
   ]
  },
  {
   "cell_type": "code",
   "execution_count": null,
   "metadata": {},
   "outputs": [],
   "source": [
    "#Python- In-built function\n",
    "#extend() - used to add another list in a list\n",
    "\n",
    "list1=[1,2,3,4]\n",
    "print(\"Elements of list1 before extending :\",list1)\n",
    "list2=[5,6,7,8]\n",
    "\n",
    "list1.extend(list2)\n",
    "\n",
    "print(\"Elements of list1 after extending :\",list1)"
   ]
  },
  {
   "cell_type": "code",
   "execution_count": null,
   "metadata": {},
   "outputs": [],
   "source": [
    "\n",
    "\n",
    "list1=['C','C++','JAVA','Python']\n",
    "print(list1)\n",
    "\n",
    "list1.remove(list1[2])\n",
    "\n",
    "print(list1)"
   ]
  },
  {
   "cell_type": "code",
   "execution_count": null,
   "metadata": {},
   "outputs": [],
   "source": [
    "#Python- In-built function\n",
    "#pop() - used to get a last element in a list\n",
    "\n",
    "list1=['C','C++','JAVA','Python']\n",
    "print(list1.pop())"
   ]
  },
  {
   "cell_type": "code",
   "execution_count": null,
   "metadata": {},
   "outputs": [],
   "source": [
    "#Python- In-built function\n",
    "#reverse() - used to get reverse a list\n",
    "\n",
    "list1=['C','C++','JAVA','Python']\n",
    "print(list1)\n",
    "list1.reverse()\n",
    "print(list1)\n"
   ]
  },
  {
   "cell_type": "code",
   "execution_count": null,
   "metadata": {},
   "outputs": [],
   "source": [
    "#Palindrome example\n",
    "palin=\"mom\"\n",
    "rev_pal =reversed(palin)\n",
    "if list(palin) == list(rev_pal):\n",
    "    print(\"The string is a palindrome.\")\n",
    "else: \n",
    "    print(\"The string is not a palindrome.\")"
   ]
  },
  {
   "cell_type": "code",
   "execution_count": null,
   "metadata": {},
   "outputs": [],
   "source": [
    "list1=[]\n",
    "str = input('Enter any string:')\n",
    "for char in str:\n",
    "    list1.append(char)\n",
    "\n",
    "origlst =[]\n",
    "origlst.extend(list1)\n",
    "\n",
    "list1.reverse()\n",
    "\n",
    "if origlst==list1:#Python- In-built function\n",
    "#reverse() - used to get reverse a list\n",
    "\n",
    "    print('Palindrome')\n",
    "else:\n",
    "    print('Not Palindrome')\n"
   ]
  },
  {
   "cell_type": "code",
   "execution_count": null,
   "metadata": {},
   "outputs": [],
   "source": [
    "#Python- In-built function\n",
    "#sort() - used to get reverse a list\n",
    "print('Type @ symbol to stop writing')\n",
    "course=[]\n",
    "while True:\n",
    "    str=input('Enter course Name :')\n",
    "    if str == '@':\n",
    "         break\n",
    "    else:\n",
    "         course.append(str)\n",
    "         \n",
    "print('Before sorting:',course) \n",
    "course.sort()\n",
    "print('After sorting:',course)   \n"
   ]
  },
  {
   "cell_type": "code",
   "execution_count": null,
   "metadata": {},
   "outputs": [],
   "source": [
    "lst=[3,1,2]\n",
    "lst.sort(reverse=True)\n",
    "print(lst)"
   ]
  },
  {
   "cell_type": "code",
   "execution_count": null,
   "metadata": {},
   "outputs": [],
   "source": [
    "#Python-list() used to tuple or a string to a list object\n",
    "\n",
    "t1= ('C','C+','Python')\n",
    "list(t1)\n",
    "str=\"Python\"\n",
    "print(list(str))\n"
   ]
  },
  {
   "cell_type": "code",
   "execution_count": null,
   "metadata": {},
   "outputs": [],
   "source": [
    "#Python-tuple() list to atuple\n",
    "list8=[1,2,3,4]\n",
    "print(tuple(list8))"
   ]
  },
  {
   "cell_type": "code",
   "execution_count": null,
   "metadata": {},
   "outputs": [],
   "source": [
    "mylist=[1,2,3]\n",
    "print(mylist)\n",
    "mylist.clear()\n",
    "print(mylist)\n"
   ]
  },
  {
   "cell_type": "code",
   "execution_count": null,
   "metadata": {},
   "outputs": [],
   "source": [
    "pow2= [2 ** x for x in range(10) if x > 5]\n",
    "pow2"
   ]
  },
  {
   "cell_type": "code",
   "execution_count": 10,
   "metadata": {},
   "outputs": [
    {
     "name": "stdout",
     "output_type": "stream",
     "text": [
      "enter your skill area-(language/database) :language\n",
      "enter your language- index) :2\n",
      "Python\n"
     ]
    }
   ],
   "source": [
    "mydict={'language':['c','C++','Python'],'database':['mysql','oracle']}\n",
    "k1=input('enter your skill area-(language/database) :')\n",
    "inval =int(input('enter your language- index) :'))\n",
    "\n",
    "\n",
    "for key in mydict:\n",
    "        if key==k1:\n",
    "            #print(mydict[key])\n",
    "            print(mydict.get(key)[inval])\n",
    "            break\n",
    "\n",
    "\n"
   ]
  },
  {
   "cell_type": "code",
   "execution_count": null,
   "metadata": {},
   "outputs": [],
   "source": []
  }
 ],
 "metadata": {
  "kernelspec": {
   "display_name": "Python 3",
   "language": "python",
   "name": "python3"
  },
  "language_info": {
   "codemirror_mode": {
    "name": "ipython",
    "version": 3
   },
   "file_extension": ".py",
   "mimetype": "text/x-python",
   "name": "python",
   "nbconvert_exporter": "python",
   "pygments_lexer": "ipython3",
   "version": "3.7.4"
  }
 },
 "nbformat": 4,
 "nbformat_minor": 2
}
