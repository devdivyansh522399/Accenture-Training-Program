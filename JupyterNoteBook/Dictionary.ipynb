{
 "cells": [
  {
   "cell_type": "code",
   "execution_count": 2,
   "id": "ebe4000f",
   "metadata": {},
   "outputs": [
    {
     "name": "stdout",
     "output_type": "stream",
     "text": [
      "{'IND': 'India', 'CHN': 'China', 'AUS': 'Australia'}\n",
      "{1: 50.5, 2: 80, 3: 89.2, 4: 70}\n"
     ]
    }
   ],
   "source": [
    "#Python- Dictionary\n",
    "#           key    value\n",
    "country = {'IND':'India','CHN':'China','AUS':'Australia'}\n",
    "#        key : value , \n",
    "marks = {1:50.5,   2:80,   3:89.2,   4:70}\n",
    "print(country)\n",
    "print(marks)\n"
   ]
  },
  {
   "cell_type": "code",
   "execution_count": 3,
   "id": "2417a24a",
   "metadata": {},
   "outputs": [
    {
     "data": {
      "text/plain": [
       "{'Flowers': ['Rose', 'Lily'], 'colours': ['Red', 'Blue']}"
      ]
     },
     "execution_count": 3,
     "metadata": {},
     "output_type": "execute_result"
    }
   ],
   "source": [
    "# Values embedded in the form of list\n",
    "dict = {\"Flowers\":[\"Rose\",\"Lily\"],\"colours\":[\"Red\",\"Blue\"]}\n",
    "#     list is values here     \n",
    "dict"
   ]
  },
  {
   "cell_type": "code",
   "execution_count": 5,
   "id": "79bdefd5",
   "metadata": {},
   "outputs": [
    {
     "name": "stdout",
     "output_type": "stream",
     "text": [
      "India\n"
     ]
    }
   ],
   "source": [
    "#How to access the value corresponding to the key in a dictionary\n",
    "#get() \n",
    "country = {'IND':'India','CHN':'China','AUS':'Australia'}\n",
    "#How to access the value corresponding to the key in a dictionary\n",
    "#get()\n",
    "country = {'IND':'India','CHN':'China','AUS':'Australia'}\n",
    "print(country.get('Ind'))\n",
    "#How to access the value corresponding to the key in a dictionary\n",
    "#get()\n",
    "country = {'IND':'India','CHN':'China','AUS':'Australia'}\n",
    "print(country.get('Ind'))"
   ]
  },
  {
   "cell_type": "code",
   "execution_count": 6,
   "id": "0fe3001c",
   "metadata": {},
   "outputs": [
    {
     "name": "stdout",
     "output_type": "stream",
     "text": [
      "IND India\n",
      "CHN China\n",
      "AUS Australia\n"
     ]
    }
   ],
   "source": [
    "#iterating dictonary trough loops\n",
    "country = {'IND':'India','CHN':'China','AUS':'Australia'}\n",
    "for key in country:\n",
    "    print(key+\" \"+country.get(key))"
   ]
  },
  {
   "cell_type": "code",
   "execution_count": 7,
   "id": "6de0ced5",
   "metadata": {},
   "outputs": [
    {
     "name": "stdout",
     "output_type": "stream",
     "text": [
      "IND India\n",
      "CHN China\n",
      "AUS Australia\n"
     ]
    }
   ],
   "source": [
    "#iterating dictonary trough loops\n",
    "country = {'IND':'India','CHN':'China','AUS':'Australia'}\n",
    "for key,val in country.items():\n",
    "    print(key+\" \"+val)"
   ]
  },
  {
   "cell_type": "code",
   "execution_count": 8,
   "id": "2e6f7ac0",
   "metadata": {},
   "outputs": [
    {
     "name": "stdout",
     "output_type": "stream",
     "text": [
      "Elements of a dictionary before updating :  {101: 'Allen', 102: 'donald', 103: 'Williams'}\n",
      "Elements of a dictionary after updating :  {101: 'Allen', 102: 'Kelly', 103: 'Williams'}\n"
     ]
    }
   ],
   "source": [
    "#Update dictionary\n",
    "student={101:'Allen',102:\"donald\",103:'Williams'}\n",
    "print(\"Elements of a dictionary before updating : \",student)\n",
    "student[102]=\"Kelly\"\n",
    "print(\"Elements of a dictionary after updating : \",student)"
   ]
  },
  {
   "cell_type": "code",
   "execution_count": 9,
   "id": "9c3ceb4f",
   "metadata": {},
   "outputs": [
    {
     "name": "stdout",
     "output_type": "stream",
     "text": [
      "element deleted successfully\n"
     ]
    },
    {
     "data": {
      "text/plain": [
       "{101: 'Allen', 102: 'donald'}"
      ]
     },
     "execution_count": 9,
     "metadata": {},
     "output_type": "execute_result"
    }
   ],
   "source": [
    "#deleting a value from a dictionary\n",
    "# del\n",
    "student={101:'Allen',102:\"donald\",103:'Williams'}\n",
    "del student[103]\n",
    "print(\"element deleted successfully\")\n",
    "student"
   ]
  },
  {
   "cell_type": "code",
   "execution_count": 10,
   "id": "660c4ff0",
   "metadata": {},
   "outputs": [
    {
     "name": "stdout",
     "output_type": "stream",
     "text": [
      "dict deleted successfully\n"
     ]
    },
    {
     "ename": "NameError",
     "evalue": "name 'student' is not defined",
     "output_type": "error",
     "traceback": [
      "\u001b[1;31m---------------------------------------------------------------------------\u001b[0m",
      "\u001b[1;31mNameError\u001b[0m                                 Traceback (most recent call last)",
      "\u001b[1;32m~\\AppData\\Local\\Temp\\ipykernel_29780\\2467275501.py\u001b[0m in \u001b[0;36m<module>\u001b[1;34m\u001b[0m\n\u001b[0;32m      2\u001b[0m \u001b[1;32mdel\u001b[0m \u001b[0mstudent\u001b[0m\u001b[1;33m\u001b[0m\u001b[1;33m\u001b[0m\u001b[0m\n\u001b[0;32m      3\u001b[0m \u001b[0mprint\u001b[0m\u001b[1;33m(\u001b[0m\u001b[1;34m\"dict deleted successfully\"\u001b[0m\u001b[1;33m)\u001b[0m\u001b[1;33m\u001b[0m\u001b[1;33m\u001b[0m\u001b[0m\n\u001b[1;32m----> 4\u001b[1;33m \u001b[0mstudent\u001b[0m\u001b[1;33m\u001b[0m\u001b[1;33m\u001b[0m\u001b[0m\n\u001b[0m",
      "\u001b[1;31mNameError\u001b[0m: name 'student' is not defined"
     ]
    }
   ],
   "source": [
    "student={101:'Allen',102:\"donald\",103:'Williams'}\n",
    "del student\n",
    "print(\"dict deleted successfully\")\n",
    "student\n"
   ]
  },
  {
   "cell_type": "markdown",
   "id": "3e408215",
   "metadata": {},
   "source": [
    "# name , key , indentation, error"
   ]
  },
  {
   "cell_type": "code",
   "execution_count": 11,
   "id": "9c75c846",
   "metadata": {},
   "outputs": [
    {
     "name": "stdout",
     "output_type": "stream",
     "text": [
      "Keys are   :  dict_keys([101, 102, 103])\n",
      "Values are :  dict_values(['Allen', 'donald', 'Williams'])\n"
     ]
    }
   ],
   "source": [
    "#How to view only the keys & values\n",
    "#keys() - values()\n",
    "\n",
    "student={101:'Allen',102:\"donald\",103:'Williams'}\n",
    "print(\"Keys are   : \",student.keys())\n",
    "print(\"Values are : \",student.values())"
   ]
  },
  {
   "cell_type": "code",
   "execution_count": 12,
   "id": "455d4fba",
   "metadata": {},
   "outputs": [
    {
     "data": {
      "text/plain": [
       "{101: 'Allen', 102: None, 103: 'Williams'}"
      ]
     },
     "execution_count": 12,
     "metadata": {},
     "output_type": "execute_result"
    }
   ],
   "source": [
    "student={101:'Allen',102:\"donald\",103:'Williams'}\n",
    "student[102]=None\n",
    "student"
   ]
  },
  {
   "cell_type": "code",
   "execution_count": 13,
   "id": "2019e7c5",
   "metadata": {},
   "outputs": [
    {
     "name": "stdout",
     "output_type": "stream",
     "text": [
      "{'name': 'John', 'marks': 89}\n",
      "Marks of a williams is : 50\n"
     ]
    }
   ],
   "source": [
    "#Multi dimensional dict\n",
    "d1={'name':'John','marks':89}\n",
    "d2={'name':'williams','marks':50}\n",
    "d3={'name':'Smith','marks':70}\n",
    "\n",
    "student={101:d1,102:d2,103:d3}\n",
    "\n",
    "print(student[101])\n",
    "print(\"Marks of a williams is :\",student[102]['marks'])"
   ]
  },
  {
   "cell_type": "code",
   "execution_count": 14,
   "id": "d71f5cfb",
   "metadata": {},
   "outputs": [
    {
     "name": "stdout",
     "output_type": "stream",
     "text": [
      "Total elements :  2\n"
     ]
    }
   ],
   "source": [
    "#Buitl-In function over a Dictionary\n",
    "#len()-used to get the length\n",
    "d1={'name':'John','marks':89}\n",
    "print(\"Total elements : \",len(d1))"
   ]
  },
  {
   "cell_type": "markdown",
   "id": "abdfa657",
   "metadata": {},
   "source": [
    "# dictionary creation dynamically"
   ]
  },
  {
   "cell_type": "code",
   "execution_count": 18,
   "id": "11c9b48c",
   "metadata": {},
   "outputs": [
    {
     "name": "stdout",
     "output_type": "stream",
     "text": [
      "accepting first student or employee\n",
      "enter   emp namehello\n",
      "enter employee salary45000\n",
      "yes or noY\n",
      "accepting first student or employee\n",
      "enter   emp namehello\n",
      "enter employee salary4500\n",
      "yes or non\n",
      "prog ends here\n"
     ]
    },
    {
     "data": {
      "text/plain": [
       "{1: {'name': 'hello', 'salary': 45000.0},\n",
       " 2: {'name': 'hello', 'salary': 4500.0}}"
      ]
     },
     "execution_count": 18,
     "metadata": {},
     "output_type": "execute_result"
    }
   ],
   "source": [
    "choice = \"Y\"\n",
    "empdictionary = {}\n",
    "eID = 1\n",
    "while choice == 'Y' or  choice == \"y\":\n",
    "    print(\"accepting first student or employee\")\n",
    "    ename = input(\"enter   emp name\")\n",
    "    esalary = float(input(\"enter employee salary\"))\n",
    "    \n",
    "    # empdict contains single employee record \n",
    "    empdict ={\"name\":ename,\"salary\":esalary}\n",
    "    empdictionary.update({eID:empdict})\n",
    "    eID+=1\n",
    "    choice = input(\"yes or no\")\n",
    "print(\"prog ends here\")\n",
    "empdictionary\n",
    "    "
   ]
  },
  {
   "cell_type": "code",
   "execution_count": 20,
   "id": "e0f629d2",
   "metadata": {},
   "outputs": [
    {
     "name": "stdout",
     "output_type": "stream",
     "text": [
      "accepting first student or employee\n",
      "enter emp ID1\n",
      "enter   emp nameSuresh\n",
      "enter employee salary45000\n",
      "yes or noy\n",
      "accepting first student or employee\n",
      "enter emp ID1\n",
      "please enter unique ID\n",
      "accepting first student or employee\n",
      "enter emp ID1\n",
      "please enter unique ID\n",
      "accepting first student or employee\n",
      "enter emp ID2\n",
      "enter   emp name2\n",
      "enter employee salary45000\n",
      "yes or non\n",
      "prog ends here\n"
     ]
    },
    {
     "data": {
      "text/plain": [
       "{1: {'name': 'Suresh', 'salary': 45000.0}, 2: {'name': '2', 'salary': 45000.0}}"
      ]
     },
     "execution_count": 20,
     "metadata": {},
     "output_type": "execute_result"
    }
   ],
   "source": [
    "choice = \"Y\"\n",
    "empdictionary = {}\n",
    "while choice == 'Y' or  choice == \"y\":\n",
    "    print(\"accepting first student or employee\")\n",
    "    eID = int(input(\"enter emp ID\"))\n",
    "    if eID in empdictionary:\n",
    "        print(\"please enter unique ID\")\n",
    "        continue\n",
    "    ename = input(\"enter   emp name\")\n",
    "    esalary = float(input(\"enter employee salary\"))\n",
    "    \n",
    "    # empdict contains single employee record \n",
    "    empdict ={\"name\":ename,\"salary\":esalary}\n",
    "    empdictionary.update({eID:empdict})\n",
    "    choice = input(\"yes or no\")\n",
    "print(\"prog ends here\")\n",
    "empdictionary\n",
    "    "
   ]
  },
  {
   "cell_type": "code",
   "execution_count": 21,
   "id": "fed8e196",
   "metadata": {},
   "outputs": [
    {
     "name": "stdout",
     "output_type": "stream",
     "text": [
      "Total elements :  2\n"
     ]
    }
   ],
   "source": [
    "#Buitl-In function over a Dictionary\n",
    "#len()-used to get the length\n",
    "d1={'name':'John','marks':89}\n",
    "print(\"Total elements : \",len(d1))"
   ]
  },
  {
   "cell_type": "code",
   "execution_count": 23,
   "id": "ba4fa854",
   "metadata": {},
   "outputs": [
    {
     "name": "stdout",
     "output_type": "stream",
     "text": [
      "3\n",
      "p\n"
     ]
    }
   ],
   "source": [
    "#Buitl-In function over a Dictionary\n",
    "#max()\n",
    "d1={'P':\"Python\",\"D\":\"Django\",\"p\":\"Pyramid\"}\n",
    "d2={1:50,2:60,3:70}\n",
    "print(max(d2))\n",
    "print(max(d1))"
   ]
  },
  {
   "cell_type": "code",
   "execution_count": 24,
   "id": "7117ab00",
   "metadata": {},
   "outputs": [
    {
     "name": "stdout",
     "output_type": "stream",
     "text": [
      "D\n",
      "1\n"
     ]
    }
   ],
   "source": [
    "#Buitl-In function over a Dictionary\n",
    "#min()\n",
    "d1={'P':\"Python\",\"D\":\"Django\",\"p\":\"Pyramid\"}\n",
    "d2={1:50,2:60,3:70}\n",
    "print(min(d1))\n",
    "print(min(d2))"
   ]
  },
  {
   "cell_type": "code",
   "execution_count": 25,
   "id": "f623e8a5",
   "metadata": {},
   "outputs": [
    {
     "name": "stdout",
     "output_type": "stream",
     "text": [
      "donald\n",
      "{101: 'Allen', 103: 'Williams'}\n",
      "{}\n"
     ]
    }
   ],
   "source": [
    "#Buitl-In function over a Dictionary\n",
    "#pop() - - return the value associated with the key & the coresponding key-valuer pair to be removed.\n",
    "student={101:'Allen',102:\"donald\",103:'Williams'}\n",
    "print(student.pop(102))\n",
    "print(student)\n",
    "#Buitl-In function over a Dictionary\n",
    "#clear()- delete all the elements\n",
    "\n",
    "student1={101:'Allen',102:\"donald\",103:'Williams'}\n",
    "student1.clear()\n",
    "print(student1)"
   ]
  },
  {
   "cell_type": "code",
   "execution_count": 26,
   "id": "93774d0c",
   "metadata": {},
   "outputs": [
    {
     "name": "stdout",
     "output_type": "stream",
     "text": [
      "dict_items([(101, 'Allen'), (102, 'donald'), (103, 'Williams')])\n"
     ]
    }
   ],
   "source": [
    "#Buitl-In function over a Dictionary\n",
    "#items()- return a list of tuple as key value\n",
    "student1={101:'Allen',102:\"donald\",103:'Williams'}\n",
    "print(student1.items())"
   ]
  },
  {
   "cell_type": "code",
   "execution_count": 29,
   "id": "07d2c29a",
   "metadata": {},
   "outputs": [
    {
     "name": "stdout",
     "output_type": "stream",
     "text": [
      "dict_keys([101, 102, 103])\n"
     ]
    },
    {
     "data": {
      "text/plain": [
       "dict_values(['Allen', 'donald', 'Williams'])"
      ]
     },
     "execution_count": 29,
     "metadata": {},
     "output_type": "execute_result"
    }
   ],
   "source": [
    "#Buitl-In function over a Dictionary\n",
    "#keys()- use to get only keys\n",
    "student1={101:'Allen',102:\"donald\",103:'Williams'}\n",
    "print(student1.keys())\n",
    "student1.values()"
   ]
  },
  {
   "cell_type": "code",
   "execution_count": 45,
   "id": "74870daa",
   "metadata": {},
   "outputs": [
    {
     "name": "stdout",
     "output_type": "stream",
     "text": [
      "101\n",
      "name JOHN\n",
      "marks 89\n",
      "102\n",
      "name Allen\n",
      "marks 59\n",
      "103\n",
      "name Donald\n",
      "marks 79\n"
     ]
    }
   ],
   "source": [
    "#multi-dim array\n",
    "s1={\"name\":\"JOHN\",\"marks\":89}\n",
    "s2={\"name\":\"Allen\",\"marks\":59}\n",
    "s3={\"name\":\"Donald\",\"marks\":79}\n",
    "\n",
    "students = {101:s1,102:s2,103:s3}\n",
    "\n",
    "# for key,val in students.items():\n",
    "#     print(key)\n",
    "#     for k,v in val.items():\n",
    "#         print(str(k)+\" \"+str(v))\n",
    "\n"
   ]
  },
  {
   "cell_type": "code",
   "execution_count": 47,
   "id": "2571bfd4",
   "metadata": {},
   "outputs": [
    {
     "name": "stdout",
     "output_type": "stream",
     "text": [
      "(101, {'name': 'JOHN', 'marks': 89})\n"
     ]
    }
   ],
   "source": [
    "students = (101,s1[\"marks\"])\n",
    "print(students)"
   ]
  },
  {
   "cell_type": "code",
   "execution_count": 51,
   "id": "22d95e30",
   "metadata": {},
   "outputs": [
    {
     "name": "stdout",
     "output_type": "stream",
     "text": [
      "In the ${count}  round\n",
      "[89]\n",
      "89\n",
      "In the ${count}  round\n",
      "[89, 59]\n",
      "89\n",
      "In the ${count}  round\n",
      "[89, 59, 79]\n",
      "89\n"
     ]
    }
   ],
   "source": [
    "#multi-dim array\n",
    "\n",
    "s1={\"name\":\"JOHN\",\"marks\":89}\n",
    "s2={\"name\":\"Allen\",\"marks\":59}\n",
    "s3={\"name\":\"Donald\",\"marks\":79}\n",
    "\n",
    "students = {101:s1,102:s2,103:s3}\n",
    "marks_list=[]\n",
    "max_marks=0\n",
    "count = 1\n",
    "for k,v in students.items():\n",
    "    marks_list.append(v['marks'])\n",
    "    print(\"In the ${count}  round\",)\n",
    "    count += 1\n",
    "    print(marks_list)\n",
    "    max_marks=max(marks_list)\n",
    "    print(max_marks)\n",
    "    print(\"MAXIMUM MARKS\",max_marks) \n",
    "    max_=max_marks\n"
   ]
  },
  {
   "cell_type": "code",
   "execution_count": 53,
   "id": "33ce9ef1",
   "metadata": {},
   "outputs": [
    {
     "name": "stdout",
     "output_type": "stream",
     "text": [
      "I Love Butter and Bread\n"
     ]
    }
   ],
   "source": [
    "x = \"Bread\"\n",
    "y = \"Butter\"\n",
    "print('I Love {1} and {0}'.format(x,y))"
   ]
  },
  {
   "cell_type": "code",
   "execution_count": 56,
   "id": "662fb199",
   "metadata": {},
   "outputs": [
    {
     "name": "stdout",
     "output_type": "stream",
     "text": [
      "\n",
      "\n",
      "\n",
      "MAXIMUM MARKS 89\n",
      "ROLL NO. OF STUDENT WHO OBTAINED MAXIMUM MARKS 101\n",
      "{'name': 'JOHN', 'marks': 89}\n"
     ]
    }
   ],
   "source": [
    "#multi-dim array\n",
    "\n",
    "s1={\"name\":\"JOHN\",\"marks\":89}\n",
    "s2={\"name\":\"Allen\",\"marks\":59}\n",
    "s3={\"name\":\"Donald\",\"marks\":79}\n",
    "\n",
    "students = {101:s1,102:s2,103:s3}\n",
    "marks_list=[]\n",
    "max_marks=0\n",
    "# count = 1\n",
    "for k,v in students.items():\n",
    "    marks_list.append(v['marks'])\n",
    "#     print(\"In the ${count}  round\",)\n",
    "#     count += 1\n",
    "#     print(marks_list)\n",
    "    max_marks=max(marks_list)\n",
    "    print()\n",
    "print(\"MAXIMUM MARKS\",max_marks) \n",
    "max_=max_marks\n",
    "for k,v in students.items():\n",
    "    if v['marks']==max_:\n",
    "        print(\"ROLL NO. OF STUDENT WHO OBTAINED MAXIMUM MARKS\",k)\n",
    "        print(students[k])\n"
   ]
  },
  {
   "cell_type": "code",
   "execution_count": 55,
   "id": "7c99306b",
   "metadata": {},
   "outputs": [
    {
     "name": "stdout",
     "output_type": "stream",
     "text": [
      "quantumforquantum is a portal for quantum.\n"
     ]
    }
   ],
   "source": [
    "val = 'quantum'\n",
    "print(f\"{val}for{val} is a portal for {val}.\")"
   ]
  },
  {
   "cell_type": "code",
   "execution_count": null,
   "id": "bd9858fc",
   "metadata": {},
   "outputs": [],
   "source": []
  }
 ],
 "metadata": {
  "kernelspec": {
   "display_name": "Python 3 (ipykernel)",
   "language": "python",
   "name": "python3"
  },
  "language_info": {
   "codemirror_mode": {
    "name": "ipython",
    "version": 3
   },
   "file_extension": ".py",
   "mimetype": "text/x-python",
   "name": "python",
   "nbconvert_exporter": "python",
   "pygments_lexer": "ipython3",
   "version": "3.9.13"
  }
 },
 "nbformat": 4,
 "nbformat_minor": 5
}
